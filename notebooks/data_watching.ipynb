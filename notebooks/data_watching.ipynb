{
 "cells": [
  {
   "cell_type": "code",
   "execution_count": 2,
   "metadata": {},
   "outputs": [
    {
     "data": {
      "text/html": [
       "<div>\n",
       "<style scoped>\n",
       "    .dataframe tbody tr th:only-of-type {\n",
       "        vertical-align: middle;\n",
       "    }\n",
       "\n",
       "    .dataframe tbody tr th {\n",
       "        vertical-align: top;\n",
       "    }\n",
       "\n",
       "    .dataframe thead th {\n",
       "        text-align: right;\n",
       "    }\n",
       "</style>\n",
       "<table border=\"1\" class=\"dataframe\">\n",
       "  <thead>\n",
       "    <tr style=\"text-align: right;\">\n",
       "      <th></th>\n",
       "      <th>examples</th>\n",
       "    </tr>\n",
       "  </thead>\n",
       "  <tbody>\n",
       "    <tr>\n",
       "      <th>0</th>\n",
       "      <td>{'id': '18c2f619-f102-452f-ab81-d26f7e283ffe',...</td>\n",
       "    </tr>\n",
       "    <tr>\n",
       "      <th>1</th>\n",
       "      <td>{'id': '487c93e3-0d45-4088-a378-cf3a01c8953d',...</td>\n",
       "    </tr>\n",
       "    <tr>\n",
       "      <th>2</th>\n",
       "      <td>{'id': 'd5056874-895a-4a7f-9e0f-828d414d65d9',...</td>\n",
       "    </tr>\n",
       "    <tr>\n",
       "      <th>3</th>\n",
       "      <td>{'id': '20c792c7-0c4b-42d0-8127-0e04113db384',...</td>\n",
       "    </tr>\n",
       "    <tr>\n",
       "      <th>4</th>\n",
       "      <td>{'id': 'f5359e0d-4d4a-4707-95a3-4c627fc4a83b',...</td>\n",
       "    </tr>\n",
       "  </tbody>\n",
       "</table>\n",
       "</div>"
      ],
      "text/plain": [
       "                                            examples\n",
       "0  {'id': '18c2f619-f102-452f-ab81-d26f7e283ffe',...\n",
       "1  {'id': '487c93e3-0d45-4088-a378-cf3a01c8953d',...\n",
       "2  {'id': 'd5056874-895a-4a7f-9e0f-828d414d65d9',...\n",
       "3  {'id': '20c792c7-0c4b-42d0-8127-0e04113db384',...\n",
       "4  {'id': 'f5359e0d-4d4a-4707-95a3-4c627fc4a83b',..."
      ]
     },
     "execution_count": 2,
     "metadata": {},
     "output_type": "execute_result"
    }
   ],
   "source": [
    "import pandas as pd\n",
    "\n",
    "ds = pd.read_json(\"../medical_data/Corona2.json\")\n",
    "ds.head(5)"
   ]
  },
  {
   "cell_type": "code",
   "execution_count": 14,
   "metadata": {},
   "outputs": [
    {
     "data": {
      "text/html": [
       "<div>\n",
       "<style scoped>\n",
       "    .dataframe tbody tr th:only-of-type {\n",
       "        vertical-align: middle;\n",
       "    }\n",
       "\n",
       "    .dataframe tbody tr th {\n",
       "        vertical-align: top;\n",
       "    }\n",
       "\n",
       "    .dataframe thead th {\n",
       "        text-align: right;\n",
       "    }\n",
       "</style>\n",
       "<table border=\"1\" class=\"dataframe\">\n",
       "  <thead>\n",
       "    <tr style=\"text-align: right;\">\n",
       "      <th></th>\n",
       "      <th>id</th>\n",
       "      <th>content</th>\n",
       "      <th>metadata</th>\n",
       "      <th>annotations</th>\n",
       "      <th>classifications</th>\n",
       "    </tr>\n",
       "  </thead>\n",
       "  <tbody>\n",
       "    <tr>\n",
       "      <th>0</th>\n",
       "      <td>18c2f619-f102-452f-ab81-d26f7e283ffe</td>\n",
       "      <td>While bismuth compounds (Pepto-Bismol) decreas...</td>\n",
       "      <td>{}</td>\n",
       "      <td>[{'id': '0825a1bf-6a6e-4fa2-be77-8d104701eaed'...</td>\n",
       "      <td>[]</td>\n",
       "    </tr>\n",
       "    <tr>\n",
       "      <th>1</th>\n",
       "      <td>487c93e3-0d45-4088-a378-cf3a01c8953d</td>\n",
       "      <td>Diarrhea, also spelled diarrhoea, is the condi...</td>\n",
       "      <td>{}</td>\n",
       "      <td>[{'id': '28601a42-c8a9-44e2-aeea-8939cb1db1a9'...</td>\n",
       "      <td>[]</td>\n",
       "    </tr>\n",
       "    <tr>\n",
       "      <th>2</th>\n",
       "      <td>d5056874-895a-4a7f-9e0f-828d414d65d9</td>\n",
       "      <td>Antiretroviral therapy (ART) is recommended fo...</td>\n",
       "      <td>{}</td>\n",
       "      <td>[{'id': '0a4b4cc2-3a07-4817-8ccc-8fa1f945573d'...</td>\n",
       "      <td>[]</td>\n",
       "    </tr>\n",
       "    <tr>\n",
       "      <th>3</th>\n",
       "      <td>20c792c7-0c4b-42d0-8127-0e04113db384</td>\n",
       "      <td>The following drugs are considered as DMARDs: ...</td>\n",
       "      <td>{}</td>\n",
       "      <td>[{'id': '0e370ff5-fee6-45e1-adcb-d5f00fa33b0d'...</td>\n",
       "      <td>[]</td>\n",
       "    </tr>\n",
       "    <tr>\n",
       "      <th>4</th>\n",
       "      <td>f5359e0d-4d4a-4707-95a3-4c627fc4a83b</td>\n",
       "      <td>The goals of treatment are to reduce pain, dec...</td>\n",
       "      <td>{}</td>\n",
       "      <td>[{'id': '10411ff5-e343-40bf-95d5-39cd1cb16060'...</td>\n",
       "      <td>[]</td>\n",
       "    </tr>\n",
       "  </tbody>\n",
       "</table>\n",
       "</div>"
      ],
      "text/plain": [
       "                                     id  \\\n",
       "0  18c2f619-f102-452f-ab81-d26f7e283ffe   \n",
       "1  487c93e3-0d45-4088-a378-cf3a01c8953d   \n",
       "2  d5056874-895a-4a7f-9e0f-828d414d65d9   \n",
       "3  20c792c7-0c4b-42d0-8127-0e04113db384   \n",
       "4  f5359e0d-4d4a-4707-95a3-4c627fc4a83b   \n",
       "\n",
       "                                             content metadata  \\\n",
       "0  While bismuth compounds (Pepto-Bismol) decreas...       {}   \n",
       "1  Diarrhea, also spelled diarrhoea, is the condi...       {}   \n",
       "2  Antiretroviral therapy (ART) is recommended fo...       {}   \n",
       "3  The following drugs are considered as DMARDs: ...       {}   \n",
       "4  The goals of treatment are to reduce pain, dec...       {}   \n",
       "\n",
       "                                         annotations classifications  \n",
       "0  [{'id': '0825a1bf-6a6e-4fa2-be77-8d104701eaed'...              []  \n",
       "1  [{'id': '28601a42-c8a9-44e2-aeea-8939cb1db1a9'...              []  \n",
       "2  [{'id': '0a4b4cc2-3a07-4817-8ccc-8fa1f945573d'...              []  \n",
       "3  [{'id': '0e370ff5-fee6-45e1-adcb-d5f00fa33b0d'...              []  \n",
       "4  [{'id': '10411ff5-e343-40bf-95d5-39cd1cb16060'...              []  "
      ]
     },
     "metadata": {},
     "output_type": "display_data"
    }
   ],
   "source": [
    "import json\n",
    "with open(\"../medical_data/Corona2.json\", \"r\") as f:\n",
    "    data = json.load(f)\n",
    "\n",
    "examples = data[\"examples\"]\n",
    "df_main = pd.DataFrame(examples)\n",
    "display(df_main.head())"
   ]
  },
  {
   "cell_type": "markdown",
   "metadata": {},
   "source": [
    "# TODO:\n",
    "* read https://mageswaran1989.medium.com/how-to-build-custom-ner-huggingface-dataset-for-receipts-and-train-with-huggingface-transformers-6c954b84473c\n",
    "* get all tags\n",
    "* get tokens"
   ]
  }
 ],
 "metadata": {
  "kernelspec": {
   "display_name": "Python 3.9.15 ('NLP_AtW')",
   "language": "python",
   "name": "python3"
  },
  "language_info": {
   "codemirror_mode": {
    "name": "ipython",
    "version": 3
   },
   "file_extension": ".py",
   "mimetype": "text/x-python",
   "name": "python",
   "nbconvert_exporter": "python",
   "pygments_lexer": "ipython3",
   "version": "3.9.15"
  },
  "orig_nbformat": 4,
  "vscode": {
   "interpreter": {
    "hash": "03818c7e0425efb79881eb8599a732e2cc14152177872083f0a6ff1fc37732b0"
   }
  }
 },
 "nbformat": 4,
 "nbformat_minor": 2
}
